{
 "cells": [
  {
   "cell_type": "code",
   "execution_count": 5,
   "metadata": {},
   "outputs": [
    {
     "name": "stdout",
     "output_type": "stream",
     "text": [
      "Size of original data set: 8282\n",
      "Number of removed names: 0\n"
     ]
    }
   ],
   "source": [
    "import json\n",
    "\n",
    "def remove_duplicates():\n",
    "    '''\n",
    "    Does Somthing.\n",
    "    \n",
    "        Parameters:\n",
    "        \n",
    "        Returns:\n",
    "    '''\n",
    "\n",
    "    with open('org_names.json', mode='r') as f:\n",
    "        data = json.load(f)\n",
    "\n",
    "    original_size = len(data) # To use as a comparison\n",
    "    print(\"Size of original data set:\", original_size)\n",
    "\n",
    "\n",
    "\n",
    "    final_size = len(data) # To use as a comparison\n",
    "\n",
    "    print(\"Number of removed names:\", original_size - final_size)\n",
    "\n",
    "remove_duplicates()"
   ]
  },
  {
   "cell_type": "markdown",
   "metadata": {},
   "source": [
    "TASK\n",
    "Background: Every time one of our users runs a report our Search & NLP pipeline fetches loads of information about them from company records, news articles, and blog posts. After completing this it will be able to generate a list of all company names it’s seen, we want to deduplicate entries in this list, so that our Report Generation pipeline can group together information about the same company before displaying it to the user.\n",
    "Task: Write a function which takes in a list of company/organisation names, and reduces the list to one entry per company. Lots of companies will be in their multiple times, possibly with different forms of their names. The file provided should be treated as a representative example of the list of names your function will receive. You should carefully consider the time complexity of your code.\n",
    "Include unit tests to show that your function works on various edge cases. The problem is fairly ill-defined and open ended, so part of the challenge is to define some bounds for your work! We're not looking for a complete solution - just a decent stab, a few good ideas and some sensible code.\n",
    "Feel free to import and use any libraries or external datasets you like - that's a key part of real-world software development.\n",
    "You should take care to ensure your code is readable and well-commented where necessary. Share your code (the whole solution, including the tests) with us (zip in an email, or public GitHub project). Please also share with us any additional comments, thoughts, or ideas about any difficulties you encountered in this task, and please take care to explain any limitations of your solution which you're aware of.\n",
    "\n",
    "STEPS\n",
    "- Write a function\n",
    "- Function takes in a list\n",
    "- Reduce the list to 1 entry per company\n",
    "- Consider time complexity\n",
    "- Unit tests prooving it deals with edge cases\n",
    "- Readable and well commented\n",
    "- Share ideas and difficulties\n",
    "- Explain limitations\n",
    "\n",
    "INITIAL IDEAS\n",
    "Use a set to remove duplicates automatically\n",
    "Remove obvious words (without editing them) like 'LIMITED' and 'LTD'\n",
    "Use wildcards to remove the rest\n",
    "Do as few cycles of the list as possible to maintain speed\n",
    "Store the size of the list to compare after cleaning to see how many duplicates were removed\n",
    "Use a decorator to time the function\n",
    "Refactor funtion into smaller functions?\n",
    "\n",
    "QUESTIONS\n",
    "Is transfering to a set less speedy than cycling through a list?\n",
    "Is there a method for removing duplicates? (Pandas?)\n",
    "Test a random section instead of the whole document to reduce time?\n",
    "Would a generator be useful?"
   ]
  }
 ],
 "metadata": {
  "interpreter": {
   "hash": "19d8af6c291ee501da9ca5d95ae68ca5cfdcb85dbde92e8cc63bdd9771af1e34"
  },
  "kernelspec": {
   "display_name": "Python 3.10.4 64-bit (windows store)",
   "language": "python",
   "name": "python3"
  },
  "language_info": {
   "codemirror_mode": {
    "name": "ipython",
    "version": 3
   },
   "file_extension": ".py",
   "mimetype": "text/x-python",
   "name": "python",
   "nbconvert_exporter": "python",
   "pygments_lexer": "ipython3",
   "version": "3.10.4"
  },
  "orig_nbformat": 4
 },
 "nbformat": 4,
 "nbformat_minor": 2
}
